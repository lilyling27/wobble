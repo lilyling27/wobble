{
 "cells": [
  {
   "cell_type": "markdown",
   "metadata": {},
   "source": [
    "# Check `wobble` Results for HD 101501"
   ]
  },
  {
   "cell_type": "code",
   "execution_count": 1,
   "metadata": {},
   "outputs": [],
   "source": [
    "from glob import glob\n",
    "import numpy as np\n",
    "import matplotlib.pyplot as plt\n",
    "from astropy.time import Time\n",
    "from scipy.io import readsav\n",
    "\n",
    "import wobble\n",
    "from tqdm import tqdm\n",
    "from findRV import *\n",
    "import seaborn as sns\n",
    "\n",
    "import tensorflow as tf\n",
    "\n",
    "import exoplanet as xo\n",
    "import pymc3 as pm\n",
    "import theano.tensor as tt\n",
    "import corner"
   ]
  },
  {
   "cell_type": "code",
   "execution_count": 2,
   "metadata": {},
   "outputs": [],
   "source": [
    "reg_star_file = '../regularization/EXPRES/55cnc_expres_star_K0.hdf5'\n",
    "reg_t_file    = '../regularization/EXPRES/55cnc_expres_t_K2.hdf5'\n",
    "\n",
    "date=200907\n",
    "file_num=1"
   ]
  },
  {
   "cell_type": "markdown",
   "metadata": {},
   "source": [
    "## RVs"
   ]
  },
  {
   "cell_type": "code",
   "execution_count": 3,
   "metadata": {},
   "outputs": [],
   "source": [
    "star_name = '101501'\n",
    "data = wobble.Data(f'../data/{star_name}_expres.hdf5', orders=np.arange(40,80))"
   ]
  },
  {
   "cell_type": "code",
   "execution_count": 4,
   "metadata": {},
   "outputs": [
    {
     "name": "stdout",
     "output_type": "stream",
     "text": [
      "2\n",
      "Desired error not necessarily achieved due to precision loss.\n",
      "Output saved to file: ./Results/191115_17156_expres_rvs1.txt\n"
     ]
    }
   ],
   "source": [
    "result = wobble.Results(filename=f'./Results/{date}_{star_name}_expres_results{file_num}.hdf5')\n",
    "result.combine_orders('star')\n",
    "result.write_rvs('star', f'./Results/{date}_{star_name}_expres_rvs{file_num}.txt')\n",
    "wt,wr,we = np.loadtxt(f'./Results/{date}_{star_name}_expres_rvs{file_num}.txt',\n",
    "                      skiprows=3,usecols=[0,1,2],unpack=True)"
   ]
  },
  {
   "cell_type": "code",
   "execution_count": null,
   "metadata": {},
   "outputs": [],
   "source": [
    "plt.errorbar(wt,wr,yerr=we,marker='o',linestyle='None')"
   ]
  },
  {
   "cell_type": "markdown",
   "metadata": {},
   "source": [
    "## Templates"
   ]
  },
  {
   "cell_type": "code",
   "execution_count": null,
   "metadata": {},
   "outputs": [],
   "source": [
    "nepc = 12\n",
    "for nord in range(data.R):\n",
    "    plt.figure(figsize=(6.4*3,4.8))\n",
    "    plt.title(f'101501 Order {data.orders[nord]}')\n",
    "    plt.xlabel('Wavelength')\n",
    "    plt.ylabel('Normalized Counts')\n",
    "    \n",
    "    # Plot Data\n",
    "    plt.plot(np.exp(data.xs[nord][nepc]),np.exp(data.ys[nord][nepc]),'k.',label='Data')\n",
    "    \n",
    "    # Plot Templates\n",
    "    plt.plot(np.exp(data.xs[nord][nepc]),np.exp(results.star_ys_predicted[nord][nepc]),'-',\n",
    "             label='Star Model')\n",
    "    plt.plot(np.exp(data.xs[nord][nepc]),np.exp(results.tellurics_ys_predicted[nord][nepc]),'-',\n",
    "             label='Telluric Model')\n",
    "    plt.legend(loc=3)\n",
    "    plt.tight_layout()\n",
    "    plt.savefig(f'./Figures/{date}_{star_name}_order{nord}.png')"
   ]
  }
 ],
 "metadata": {
  "kernelspec": {
   "display_name": "Python 3",
   "language": "python",
   "name": "python3"
  },
  "language_info": {
   "codemirror_mode": {
    "name": "ipython",
    "version": 3
   },
   "file_extension": ".py",
   "mimetype": "text/x-python",
   "name": "python",
   "nbconvert_exporter": "python",
   "pygments_lexer": "ipython3",
   "version": "3.7.2"
  }
 },
 "nbformat": 4,
 "nbformat_minor": 2
}
