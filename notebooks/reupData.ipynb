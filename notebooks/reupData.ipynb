{
 "cells": [
  {
   "cell_type": "markdown",
   "metadata": {},
   "source": [
    "# Remake EXPRES Data Structures"
   ]
  },
  {
   "cell_type": "code",
   "execution_count": 1,
   "metadata": {},
   "outputs": [],
   "source": [
    "import numpy as np\n",
    "import matplotlib.pyplot as plt\n",
    "import wobble\n",
    "\n",
    "from glob import glob\n",
    "from tqdm import tqdm"
   ]
  },
  {
   "cell_type": "markdown",
   "metadata": {},
   "source": [
    "## HD 101501"
   ]
  },
  {
   "cell_type": "code",
   "execution_count": 2,
   "metadata": {},
   "outputs": [
    {
     "name": "stderr",
     "output_type": "stream",
     "text": [
      "  0%|          | 0/48 [00:00<?, ?it/s]/Users/lzhao/Documents/wobble/wobble/data.py:623: RuntimeWarning: invalid value encountered in less\n",
      "  bad = np.logical_or(ts<0.001, ~np.isfinite(ts))\n",
      "/Users/lzhao/Documents/wobble/wobble/data.py:376: RuntimeWarning: invalid value encountered in less\n",
      "  bad = np.logical_or(self.ys[r] < min_flux, ~np.isfinite(self.ys[r]))\n",
      " 25%|██▌       | 12/48 [00:05<00:15,  2.40it/s]"
     ]
    },
    {
     "name": "stdout",
     "output_type": "stream",
     "text": [
      "../data/peg51/217014_190618.1139.fits\n"
     ]
    },
    {
     "name": "stderr",
     "output_type": "stream",
     "text": [
      " 31%|███▏      | 15/48 [00:06<00:12,  2.60it/s]"
     ]
    },
    {
     "name": "stdout",
     "output_type": "stream",
     "text": [
      "../data/peg51/217014_190923.1127.fits\n"
     ]
    },
    {
     "name": "stderr",
     "output_type": "stream",
     "text": [
      "100%|██████████| 48/48 [00:26<00:00,  1.75it/s]\n"
     ]
    }
   ],
   "source": [
    "obs_files = glob('../data/101501/101501_*.fits')\n",
    "data = wobble.Data()\n",
    "for file_name in tqdm(obs_files):\n",
    "    spec = wobble.Spectrum()\n",
    "    try:\n",
    "        spec.from_EXPRES(file_name,\n",
    "                         rv_file_name='../data/101501.txt')\n",
    "    except:\n",
    "        print(file_name)\n",
    "        continue\n",
    "    data.append(spec)"
   ]
  },
  {
   "cell_type": "code",
   "execution_count": 3,
   "metadata": {},
   "outputs": [],
   "source": [
    "data.write('../data/101501_expres.hdf5')"
   ]
  },
  {
   "cell_type": "code",
   "execution_count": 4,
   "metadata": {},
   "outputs": [
    {
     "data": {
      "text/plain": [
       "[<matplotlib.lines.Line2D at 0x7f9c721756a0>]"
      ]
     },
     "execution_count": 4,
     "metadata": {},
     "output_type": "execute_result"
    },
    {
     "data": {
      "image/png": "[encoded data removed]",
      "text/plain": [
       "<Figure size 432x288 with 1 Axes>"
      ]
     },
     "metadata": {
      "needs_background": "light"
     },
     "output_type": "display_data"
    }
   ],
   "source": [
    "data = wobble.Data('../data/101501_expres.hdf5')\n",
    "plt.xlabel('Time [mjd]')\n",
    "plt.ylabel('RV [m/s]')\n",
    "plt.plot(data.dates, data.pipeline_rvs+data.bervs,'.')"
   ]
  }
 ],
 "metadata": {
  "kernelspec": {
   "display_name": "Python 3",
   "language": "python",
   "name": "python3"
  },
  "language_info": {
   "codemirror_mode": {
    "name": "ipython",
    "version": 3
   },
   "file_extension": ".py",
   "mimetype": "text/x-python",
   "name": "python",
   "nbconvert_exporter": "python",
   "pygments_lexer": "ipython3",
   "version": "3.7.2"
  }
 },
 "nbformat": 4,
 "nbformat_minor": 2
}
